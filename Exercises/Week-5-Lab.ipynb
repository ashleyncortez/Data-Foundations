{
 "cells": [
  {
   "cell_type": "markdown",
   "metadata": {},
   "source": [
    "# Python: Objects\n",
    "\n",
    "Blank notebook to be used for class exercises.\n",
    "\n",
    "Name: Ashley Cortez\n",
    "\n",
    "abc123: gql524"
   ]
  },
  {
   "cell_type": "markdown",
   "metadata": {},
   "source": [
    "## Exercise 1\n",
    "\n",
    "This exercise has two parts. First, answer the following questions:\n",
    "\n",
    "- What is the division **method** called for float objects? _truediv__()\n",
    "- How many methods and attributes are there for float objects? 57\n",
    "- How many methods and attributes are there for list objects? 46\n",
    "\n",
    "Second, write code that uses the division **METHOD** (don't use \"/\", but the result should be the same as using \"/\") to divide a float object with the value 42 by 7."
   ]
  },
  {
   "cell_type": "code",
   "execution_count": 7,
   "metadata": {},
   "outputs": [
    {
     "data": {
      "text/plain": [
       "47"
      ]
     },
     "execution_count": 7,
     "metadata": {},
     "output_type": "execute_result"
    }
   ],
   "source": [
    "a= [1,2,3]\n",
    "len(dir(a))"
   ]
  },
  {
   "cell_type": "markdown",
   "metadata": {},
   "source": [
    "## Exercise 2\n",
    "\n",
    "Write a class named “CheckingAccount” that contains the current balance of the account (an int) and the following methods:\n",
    "\n",
    "- **init** - takes a “balance” parameter to initialize the data (balance)of the object.\n",
    "- **withdraw** - takes an input parameter “amount” and modifies thedata by reducing the balance.  If “amount” results in an overdraw,subtract an extra 20 dollars.  This method should return the balance.\n",
    "- **deposit** - takes an input parameter “amount” and modifies the databy increasing the balance by “amount”.\n",
    "\n",
    "Write a few test cases to check your work (Use assert)"
   ]
  },
  {
   "cell_type": "code",
   "execution_count": 17,
   "metadata": {},
   "outputs": [
    {
     "name": "stdout",
     "output_type": "stream",
     "text": [
      "Asserts Worked!!!\n"
     ]
    }
   ],
   "source": [
    "class CheckingAccount: \n",
    "    current_balance = 0\n",
    "    def __init__(self, amount):\n",
    "        self.current_balance = amount\n",
    "    \n",
    "    def withdraw(self, amount):\n",
    "        self.current_balance = self.current_balance - amount\n",
    "        if self.current_balance < 0: \n",
    "            self.current_balance -= 20\n",
    "    \n",
    "    def deposit(self, amount):\n",
    "        self.current_balance += amount\n",
    "\n",
    "start = 30 \n",
    "check = CheckingAccount(30)\n",
    "\n",
    "assert(check.current_balance == 30)\n",
    "\n",
    "check.withdraw(31)\n",
    "\n",
    "assert(check.current_balance == -21)\n",
    "print(\"Asserts Worked!!!\")\n"
   ]
  },
  {
   "cell_type": "markdown",
   "metadata": {},
   "source": [
    "## Exercise 3\n",
    "\n",
    "Answer the following questions before running the code below:\n",
    "\n",
    "- What are the parent and child classes here?\n",
    "    - Parent = Spell \n",
    "    - Child = Accio and Confundo\n",
    "- What does the code print out?  (Try figuring it out without running itin Python)\n",
    "    - Accio (spell) will run Accio and Summoning charm from parent class\n",
    "    - Parent class will run self.incantation - Accio \n",
    "    - print no description\n",
    "    - print Confundus Charm Confudo \n",
    "    -  prints Causes the victim to become confused and befuddled\n",
    "- Which get description method is called when ‘studyspell(Confundo())’ is executed?  Why?\n",
    "    - get_description method within the confundus class\n",
    "- What do we need to do so that ‘print(Accio())’ will print the appropriate description (‘This charm summons an object to the caster,potentially over a significant distance’)?  Change to code to do this.\n",
    "    - def get_description(self):\n",
    "        return \"This charm summons an object to the caster, potentially over a significant distance\"\n",
    "    "
   ]
  },
  {
   "cell_type": "code",
   "execution_count": 23,
   "metadata": {},
   "outputs": [],
   "source": [
    "class Spell:\n",
    "    name = ''\n",
    "    incantation = ''\n",
    "    \n",
    "    def __init__(self, incantation, name): # \"Accio\" and \"Summoning Charm\"\n",
    "        self.name = name\n",
    "        self.incantation = incantation\n",
    "        \n",
    "    def __str__(self):\n",
    "        return self.name + \" \" + self.incantation + \"\\n\" + self.get_description()\n",
    "    \n",
    "    def get_description(self):\n",
    "        return \"No description\"\n",
    "    \n",
    "    def execute(self):\n",
    "        print(self.incantation)\n",
    "        \n",
    "class Accio(Spell):\n",
    "    def __init__(self):\n",
    "        Spell.__init__(self, \"Accio\", \"Summoning Charm\")\n",
    "        \n",
    "    def get_description(self):\n",
    "        return \"This charm summons an object to the caster, potentially over a significant distance\"\n",
    "    \n",
    "        \n",
    "class Confundo(Spell):\n",
    "    def __init__(self):\n",
    "        Spell.__init__(self, \"Confundo\", \"Confundus Charm\")\n",
    "        \n",
    "    def get_description(self):\n",
    "        return \"Causes the victim to become confused and befuddled.\"\n",
    "    \n",
    "def study_spell(spell):\n",
    "    print(spell)"
   ]
  },
  {
   "cell_type": "code",
   "execution_count": 24,
   "metadata": {},
   "outputs": [
    {
     "name": "stdout",
     "output_type": "stream",
     "text": [
      "Accio\n",
      "Summoning Charm Accio\n",
      "This charm summons an object to the caster, potentially over a significant distance\n",
      "Confundus Charm Confundo\n",
      "Causes the victim to become confused and befuddled.\n"
     ]
    }
   ],
   "source": [
    "# DO NOT RUN THIS CELL UNTIL YOU ANSWER THE QUESTIONS ABOVE!\n",
    "spell = Accio()\n",
    "spell.execute()\n",
    "study_spell(spell)\n",
    "study_spell(Confundo())"
   ]
  },
  {
   "cell_type": "markdown",
   "metadata": {},
   "source": [
    "PUT YOUR ANSWERS TO THE QUESTIONS HERE IN THIS MARKDOWN CELL"
   ]
  },
  {
   "cell_type": "markdown",
   "metadata": {},
   "source": [
    "## Exercise 4\n",
    "\n",
    "Expand on the Point class presented above by overloading the following operators:\n",
    "\n",
    "- Equality (== / \\_\\_eq\\_\\_) – Two points should be equal if all the values are equal (i.e., x in self is equal to x in other)\n",
    "    - This method should return either True or False\n",
    "- Greater than (> / \\_\\_gt\\_\\_) – One point is greater than another if the magnitude of self is greater than other.\n",
    "    - This method should return True or False.\n",
    "    - Calculate magnitude as $x^2+y^2$ (hint 1: self.x ** 2 hint 2: other.x ** 2)\n",
    "    \n",
    "Write a few test cases for your code (use assert)"
   ]
  },
  {
   "cell_type": "code",
   "execution_count": 35,
   "metadata": {},
   "outputs": [],
   "source": [
    "class Point:\n",
    "    def __init__(self, x=0, y=0):\n",
    "        self.x = x\n",
    "        self.y = y\n",
    "\n",
    "    def __str__(self):\n",
    "        return \"({0},{1})\".format(self.x, self.y)\n",
    "\n",
    "    def __add__(self, other):\n",
    "        x = self.x + other.x\n",
    "        y = self.y + other.y\n",
    "        return Point(x, y)\n",
    "\n",
    "    def __eq__(self, other):\n",
    "        if self.x == other.x and self.y == other.y:\n",
    "            return True\n",
    "        return False\n",
    "\n",
    "    def __gt__(self, other):\n",
    "        self_mag = self.x**2 + self.y**2\n",
    "        other_mag = other.x**2 + other.y**2\n",
    "\n",
    "        if self_mag > other_mag: \n",
    "            return True\n",
    "        return False\n"
   ]
  },
  {
   "cell_type": "code",
   "execution_count": 38,
   "metadata": {},
   "outputs": [
    {
     "name": "stdout",
     "output_type": "stream",
     "text": [
      "True\n"
     ]
    }
   ],
   "source": [
    "p1 = Point(1,3)\n",
    "p2 = Point(1,2)\n",
    "\n",
    "print(p1 > p2)"
   ]
  }
 ],
 "metadata": {
  "kernelspec": {
   "display_name": "Python 3",
   "language": "python",
   "name": "python3"
  },
  "language_info": {
   "codemirror_mode": {
    "name": "ipython",
    "version": 3
   },
   "file_extension": ".py",
   "mimetype": "text/x-python",
   "name": "python",
   "nbconvert_exporter": "python",
   "pygments_lexer": "ipython3",
   "version": "3.8.3"
  }
 },
 "nbformat": 4,
 "nbformat_minor": 4
}
