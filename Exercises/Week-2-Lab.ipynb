{
 "cells": [
  {
   "cell_type": "markdown",
   "metadata": {},
   "source": [
    "# Python as a Programming Language\n",
    "\n",
    "Blank notebook to be used for lab\n",
    "exercises.\n",
    "\n",
    "**Name**: Ashley Cortez\n"
   ]
  },
  {
   "cell_type": "markdown",
   "metadata": {},
   "source": [
    "## Exercise 1: Putting it all together\n",
    "\n",
    "Write a program that does the following:\n",
    "\n",
    "- Prints the numbers 1 to 100\n",
    "- For the  numbers 10 to 25 (including 10 and 25), instead of printing the number, print the word \"cheese\".\n",
    "- For numbers 55 to 100 (including 55, but not including 100), instead of printing the number, print the word \"cake\".\n",
    "- For 100 print the word \"Done!\".\n",
    "\n",
    "**Important Python concepts:** print(), if, elif, else, for"
   ]
  },
  {
   "cell_type": "code",
   "execution_count": 1,
   "metadata": {},
   "outputs": [
    {
     "name": "stdout",
     "output_type": "stream",
     "text": [
      "1\n",
      "2\n",
      "3\n",
      "4\n",
      "5\n",
      "6\n",
      "7\n",
      "8\n",
      "9\n",
      "cheese\n",
      "cheese\n",
      "cheese\n",
      "cheese\n",
      "cheese\n",
      "cheese\n",
      "cheese\n",
      "cheese\n",
      "cheese\n",
      "cheese\n",
      "cheese\n",
      "cheese\n",
      "cheese\n",
      "cheese\n",
      "cheese\n",
      "cheese\n",
      "26\n",
      "27\n",
      "28\n",
      "29\n",
      "30\n",
      "31\n",
      "32\n",
      "33\n",
      "34\n",
      "35\n",
      "36\n",
      "37\n",
      "38\n",
      "39\n",
      "40\n",
      "41\n",
      "42\n",
      "43\n",
      "44\n",
      "45\n",
      "46\n",
      "47\n",
      "48\n",
      "49\n",
      "50\n",
      "51\n",
      "52\n",
      "53\n",
      "54\n",
      "cake\n",
      "cake\n",
      "cake\n",
      "cake\n",
      "cake\n",
      "cake\n",
      "cake\n",
      "cake\n",
      "cake\n",
      "cake\n",
      "cake\n",
      "cake\n",
      "cake\n",
      "cake\n",
      "cake\n",
      "cake\n",
      "cake\n",
      "cake\n",
      "cake\n",
      "cake\n",
      "cake\n",
      "cake\n",
      "cake\n",
      "cake\n",
      "cake\n",
      "cake\n",
      "cake\n",
      "cake\n",
      "cake\n",
      "cake\n",
      "cake\n",
      "cake\n",
      "cake\n",
      "cake\n",
      "cake\n",
      "cake\n",
      "cake\n",
      "cake\n",
      "cake\n",
      "cake\n",
      "cake\n",
      "cake\n",
      "cake\n",
      "cake\n",
      "cake\n",
      "Done!\n"
     ]
    }
   ],
   "source": [
    "for i in range(1, 101): \n",
    "    if i >= 10 and i <= 25:\n",
    "        print(\"cheese\")\n",
    "    elif i >= 55 and i < 100:\n",
    "        print(\"cake\")\n",
    "    elif i == 100:\n",
    "        print(\"Done!\")\n",
    "    else: \n",
    "        print(i)\n"
   ]
  },
  {
   "cell_type": "markdown",
   "metadata": {},
   "source": [
    "## Exercise 2\n",
    "\n",
    "Write a program which repeatedly reads numbers until the user enters “done”. Once “done” is entered, print out the total, count, and average of the numbers. If the user enters anything other than a number, detect their mistake using try and except and print an error message and skip to the next number.\n",
    "\n",
    "What the code should look like when running:\n",
    "```\n",
    "Enter a number: 4\n",
    "Enter a number: 5\n",
    "Enter a number: bad data\n",
    "Invalid input\n",
    "Enter a number: 7\n",
    "Enter a number: done\n",
    "16 3 5.33333333333\n",
    "```\n",
    "\n",
    "**Important Python concepts:** print(), try, except, break, while"
   ]
  },
  {
   "cell_type": "code",
   "execution_count": 2,
   "metadata": {},
   "outputs": [
    {
     "name": "stdout",
     "output_type": "stream",
     "text": [
      "32\n"
     ]
    }
   ],
   "source": [
    "n = 1\n",
    "while( n < 20 ):\n",
    "    n = n * 2\n",
    "print(n)"
   ]
  },
  {
   "cell_type": "code",
   "execution_count": 3,
   "metadata": {},
   "outputs": [
    {
     "name": "stdout",
     "output_type": "stream",
     "text": [
      "1\n"
     ]
    }
   ],
   "source": [
    "A = [1, 2, 3]\n",
    "print(A[0])"
   ]
  },
  {
   "cell_type": "code",
   "execution_count": 4,
   "metadata": {},
   "outputs": [
    {
     "ename": "TypeError",
     "evalue": "'>=' not supported between instances of 'str' and 'int'",
     "output_type": "error",
     "traceback": [
      "\u001b[1;31m---------------------------------------------------------------------------\u001b[0m",
      "\u001b[1;31mTypeError\u001b[0m                                 Traceback (most recent call last)",
      "\u001b[1;32m~\\AppData\\Local\\Temp/ipykernel_33276/1458232304.py\u001b[0m in \u001b[0;36m<module>\u001b[1;34m\u001b[0m\n\u001b[0;32m      1\u001b[0m \u001b[0mA\u001b[0m \u001b[1;33m=\u001b[0m \u001b[1;34m\"abcdef\"\u001b[0m\u001b[1;33m\u001b[0m\u001b[1;33m\u001b[0m\u001b[0m\n\u001b[0;32m      2\u001b[0m \u001b[1;32mfor\u001b[0m \u001b[0mi\u001b[0m \u001b[1;32min\u001b[0m \u001b[0mrange\u001b[0m\u001b[1;33m(\u001b[0m \u001b[0mlen\u001b[0m\u001b[1;33m(\u001b[0m\u001b[0mA\u001b[0m\u001b[1;33m)\u001b[0m \u001b[1;33m)\u001b[0m\u001b[1;33m:\u001b[0m\u001b[1;33m\u001b[0m\u001b[1;33m\u001b[0m\u001b[0m\n\u001b[1;32m----> 3\u001b[1;33m     \u001b[1;32mif\u001b[0m \u001b[0mA\u001b[0m\u001b[1;33m[\u001b[0m\u001b[0mi\u001b[0m\u001b[1;33m]\u001b[0m \u001b[1;33m>=\u001b[0m \u001b[1;36m2\u001b[0m \u001b[1;32mand\u001b[0m \u001b[0mA\u001b[0m\u001b[1;33m[\u001b[0m\u001b[0mi\u001b[0m\u001b[1;33m]\u001b[0m \u001b[1;33m<=\u001b[0m \u001b[1;36m4\u001b[0m\u001b[1;33m:\u001b[0m\u001b[1;33m\u001b[0m\u001b[1;33m\u001b[0m\u001b[0m\n\u001b[0m\u001b[0;32m      4\u001b[0m         \u001b[0mprint\u001b[0m\u001b[1;33m(\u001b[0m \u001b[0mA\u001b[0m\u001b[1;33m[\u001b[0m\u001b[0mi\u001b[0m\u001b[1;33m]\u001b[0m\u001b[1;33m)\u001b[0m\u001b[1;33m\u001b[0m\u001b[1;33m\u001b[0m\u001b[0m\n",
      "\u001b[1;31mTypeError\u001b[0m: '>=' not supported between instances of 'str' and 'int'"
     ]
    }
   ],
   "source": [
    "\n",
    "A = \"abcdef\"\n",
    "for i in range( len(A) ):\n",
    "    if A[i] >= 2 and A[i] <= 4:\n",
    "        print( A[i])"
   ]
  },
  {
   "cell_type": "code",
   "execution_count": null,
   "metadata": {},
   "outputs": [
    {
     "name": "stdout",
     "output_type": "stream",
     "text": [
      "Invalid input\n",
      "16.0 3 5.333333333333333\n"
     ]
    }
   ],
   "source": [
    "total = 0\n",
    "count = 0\n",
    "while True: \n",
    "    try:\n",
    "        num = input(\"Enter a number:\")\n",
    "        num = float(num)\n",
    "        count += 1 # count = count +1\n",
    "        total += num # total = total + num \n",
    "    except: \n",
    "        if num != 'done':\n",
    "            print(\"Invalid input\")\n",
    "        else:\n",
    "            break\n",
    "\n",
    "print(\"{} {} {}\".format(total, count, total/count))"
   ]
  },
  {
   "cell_type": "markdown",
   "metadata": {},
   "source": [
    "## Exercise 3\n",
    "\n",
    "Write a program that counts how many times each letter appears in a string. The counts for each character should be stored in a dictionary where the character is the key and the value is the count. Print the dictionary at the end.\n",
    "\n",
    "Given the string **'aaabbc'**, the output should be a dictionary **{'a':3, 'b':2, 'c':1}**.\n",
    "\n",
    "We are effectively computing a histogram, which is a statistical term for a set of counters (or frequencies).\n",
    "\n",
    "**Important Python concepts:** dict ({}), for"
   ]
  },
  {
   "cell_type": "code",
   "execution_count": null,
   "metadata": {},
   "outputs": [],
   "source": [
    "word = 'brontosaurus'"
   ]
  },
  {
   "cell_type": "code",
   "execution_count": null,
   "metadata": {},
   "outputs": [
    {
     "name": "stdout",
     "output_type": "stream",
     "text": [
      "{'b': 1, 'r': 2, 'o': 2, 'n': 1, 't': 1, 's': 2, 'a': 1, 'u': 2}\n"
     ]
    }
   ],
   "source": [
    "# Write code to count the number of times each character appears in \"brontosaurus\" here\n",
    "\n",
    "char_counts = {}\n",
    "for character in word: \n",
    "    if character in char_counts:\n",
    "        char_counts[character] += 1\n",
    "    else: \n",
    "        char_counts[character] = 1\n",
    "print(char_counts)"
   ]
  },
  {
   "cell_type": "code",
   "execution_count": null,
   "metadata": {},
   "outputs": [
    {
     "name": "stdout",
     "output_type": "stream",
     "text": [
      "{'b': 1, 'r': 2, 'o': 2, 'n': 1, 't': 1, 's': 2, 'a': 1, 'u': 2}\n"
     ]
    }
   ],
   "source": [
    "char_counts = {}\n",
    "for character in word: \n",
    "    char_counts[character] = char_counts.get(character, 0) + 1\n",
    "\n",
    "print(char_counts)"
   ]
  },
  {
   "cell_type": "code",
   "execution_count": null,
   "metadata": {},
   "outputs": [
    {
     "name": "stdout",
     "output_type": "stream",
     "text": [
      "b 1\n",
      "r 2\n",
      "o 2\n",
      "n 1\n",
      "t 1\n",
      "s 2\n",
      "a 1\n",
      "u 2\n"
     ]
    }
   ],
   "source": [
    "# Print dictionary here\n",
    "for key, value in char_counts.items():\n",
    "    print(key, value)"
   ]
  }
 ],
 "metadata": {
  "kernelspec": {
   "display_name": "Python 3 (ipykernel)",
   "language": "python",
   "name": "python3"
  },
  "language_info": {
   "codemirror_mode": {
    "name": "ipython",
    "version": 3
   },
   "file_extension": ".py",
   "mimetype": "text/x-python",
   "name": "python",
   "nbconvert_exporter": "python",
   "pygments_lexer": "ipython3",
   "version": "3.9.7"
  }
 },
 "nbformat": 4,
 "nbformat_minor": 4
}
